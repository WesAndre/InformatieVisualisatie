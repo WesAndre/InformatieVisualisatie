{
 "cells": [
  {
   "cell_type": "code",
   "execution_count": 8,
   "metadata": {},
   "outputs": [],
   "source": [
    "import pandas as pd\n",
    "\n",
    "df_polution = pd.read_csv('who_aap_2021_v9_11august2022.csv', delimiter=';')\n",
    "df_life = pd.read_csv('163c5c0b-4ce0-4f4b-b4dc-8682e537b2e6.csv')\n",
    "df_life.dropna(how='all', axis=1, inplace=True)\n",
    "df_gdp = pd.read_csv('NHA.csv')\n",
    "\n",
    "\n",
    "\n",
    "\n",
    "\n",
    "\n"
   ]
  },
  {
   "cell_type": "code",
   "execution_count": null,
   "metadata": {},
   "outputs": [],
   "source": []
  }
 ],
 "metadata": {
  "kernelspec": {
   "display_name": "Python 3.11.3 ('jupyterbook')",
   "language": "python",
   "name": "python3"
  },
  "language_info": {
   "codemirror_mode": {
    "name": "ipython",
    "version": 3
   },
   "file_extension": ".py",
   "mimetype": "text/x-python",
   "name": "python",
   "nbconvert_exporter": "python",
   "pygments_lexer": "ipython3",
   "version": "3.11.3"
  },
  "orig_nbformat": 4,
  "vscode": {
   "interpreter": {
    "hash": "45773cc10d7e4fc6e6d5460c8d3589389b604c5f242c2c88973de63b8838355a"
   }
  }
 },
 "nbformat": 4,
 "nbformat_minor": 2
}
